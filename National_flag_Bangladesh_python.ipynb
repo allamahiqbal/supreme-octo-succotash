{
 "cells": [
  {
   "cell_type": "markdown",
   "id": "c6fb7f33",
   "metadata": {},
   "source": [
    "## পাইথনে (Programming)  বাংলাদেশের জাতীয় পতাকা অঙ্কন।"
   ]
  },
  {
   "cell_type": "code",
   "execution_count": 1,
   "id": "5975a370",
   "metadata": {},
   "outputs": [
    {
     "name": "stdout",
     "output_type": "stream",
     "text": [
      "\u001b[1;32mমহান বিজয় দিবসের শুভেচ্ছা। আমার সোনার বাংলা,আমি তোমায় ভালোবাসি।\u001b[0m\n"
     ]
    },
    {
     "data": {
      "image/png": "[encoded data removed]",
      "text/plain": [
       "<Figure size 432x288 with 1 Axes>"
      ]
     },
     "metadata": {},
     "output_type": "display_data"
    }
   ],
   "source": [
    "# -*- coding: utf-8 -*-\n",
    "\"\"\"\n",
    "Created on Thursday December  15 21:51:17 2022\n",
    "@author: Sayed Allamah Iqbal, Email:sayed.allamah.iqbal@gmail.com\n",
    "\n",
    "গণপ্রজাতন্ত্রী বাংলাদেশের পতাকা বিধিমালা, ১৯৭২ অনুযায়ী জাতীয় পতাকা মাপের সুনির্দিষ্ট বিবরণ নিম্নলিখিত:\n",
    "• জাতীয় পতাকা’ গাঢ় সবুজ রঙের হবে এবং ১০:৬ দৈর্ঘ্য ও প্রস্থের আয়তক্ষেত্রাকার সবুজ রঙের মাঝখানে একটি লাল বৃত্ত থাকিবে। \n",
    "• লাল বৃত্তটি পতাকার দৈর্ঘ্যরে এক-পঞ্চমাংশ ব্যাসার্ধ বিশিষ্ট হবে। পতাকার দৈর্ঘ্যের নয়-বিংশতিতম অংশ হতে অঙ্কিত উলম্ব রেখা এবং \n",
    "  পতাকার প্রস্থের মধ্যবর্তী বিন্দু হতে অঙ্কিত আনুভূমিক রেখার পরস্পর ছেদ বিন্দুতে বৃত্তের কেন্দ্র বিন্দু হবে। \n",
    "  অর্থাৎ পতাকার দৈর্ঘ্যের বিশ ভাগের বাম দিকের নয় ভাগের শেষ বিন্দুর ওপর অঙ্কিত লম্ব এবং প্রস্থের দিকে মাঝখান বরাবর অঙ্কিত \n",
    "  সরল রেখার ছেদ বিন্দু হলো বৃত্তের কেন্দ্র।\n",
    "\"\"\"\n",
    "import matplotlib.pyplot as py\n",
    "import matplotlib.patches as patch \n",
    "import matplotlib.font_manager as fm\n",
    "from simple_colors import *\n",
    "prop = fm.FontProperties(fname='kalpurush.ttf')\n",
    "\n",
    "# জাতীয় পতাকায় সবুজ রঙ এবং হাতল-Bar প্লটিং\n",
    "হাতল = patch.Rectangle((-0.29,6.9), 0, -18, linewidth = 11, edgecolor = '#800000', facecolor = '#006A4E')\n",
    "সবুজ = patch.Rectangle((0,0), width = 10, height = 6, facecolor = '#006A4E', edgecolor = '#006A4E')\n",
    "আ,beta = py.subplots()\n",
    "beta.add_patch(সবুজ)\n",
    "\n",
    "# জাতীয় পতাকায় লাল বৃত্ত এবং হাতল-Bar যুক্ত করা\n",
    "ব্যাসার্ধ = 2.0\n",
    "লাল_বৃত্ত = py.Circle((4.5,3), ব্যাসার্ধ, color = '#CD0000', fill = True, linewidth = 10)\n",
    "beta.add_artist(লাল_বৃত্ত)\n",
    "beta.add_artist(হাতল)\n",
    "py.axis('equal')\n",
    "s = u\"Bangladesh আমার Forever Love।\"\n",
    "py.xlabel(s, fontproperties = prop,fontsize=33)\n",
    "py.axvline(-0.3, c='black')\n",
    "py.axvline(0, c='black')\n",
    "py.xticks([], [])\n",
    "py.yticks([], [])\n",
    "py.axis('equal')\n",
    "beta.xaxis.label.set_color('red')\n",
    "beta.set_ylim(-5, 10)\n",
    "py.box(False)\n",
    "print(green(f\"{u'মহান বিজয় দিবসের শুভেচ্ছা। আমার সোনার বাংলা,আমি তোমায় ভালোবাসি।': >45}\",'bold'))\n",
    "py.show()  "
   ]
  },
  {
   "cell_type": "code",
   "execution_count": null,
   "id": "d143c6f4",
   "metadata": {},
   "outputs": [],
   "source": []
  }
 ],
 "metadata": {
  "kernelspec": {
   "display_name": "Python 3 (ipykernel)",
   "language": "python",
   "name": "python3"
  },
  "language_info": {
   "codemirror_mode": {
    "name": "ipython",
    "version": 3
   },
   "file_extension": ".py",
   "mimetype": "text/x-python",
   "name": "python",
   "nbconvert_exporter": "python",
   "pygments_lexer": "ipython3",
   "version": "3.8.13"
  }
 },
 "nbformat": 4,
 "nbformat_minor": 5
}
